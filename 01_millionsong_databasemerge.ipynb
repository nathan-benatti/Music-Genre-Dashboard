{
 "cells": [
  {
   "cell_type": "markdown",
   "metadata": {},
   "source": [
    "### Importing and prepping the dataset"
   ]
  },
  {
   "cell_type": "code",
   "execution_count": null,
   "metadata": {},
   "outputs": [],
   "source": [
    "# importando bibliotecas \n",
    "import numpy as np\n",
    "import pandas as pd\n",
    "#importando \n",
    "\n",
    "song_data = pd.read_csv(r'C:\\Users\\Nathan\\Documents\\music recommendation system\\song_data.csv')\n",
    "song_data2 = pd.read_fwf(r'C:\\Users\\Nathan\\Documents\\music recommendation system\\10000.txt')\n",
    "song_data2.columns = ['user_id','song_id','listen_count']\n",
    "\n",
    "song_df = pd.merge(song_data2, song_data.drop_duplicates(['song_id']), on=\"song_id\", how=\"left\")\n",
    "\n",
    "song_df.to_csv(r'C:\\Users\\Nathan\\Documents\\music recommendation system\\song_df.csv', index = False)"
   ]
  }
 ],
 "metadata": {
  "kernelspec": {
   "display_name": "Python 3 (ipykernel)",
   "language": "python",
   "name": "python3"
  },
  "language_info": {
   "codemirror_mode": {
    "name": "ipython",
    "version": 3
   },
   "file_extension": ".py",
   "mimetype": "text/x-python",
   "name": "python",
   "nbconvert_exporter": "python",
   "pygments_lexer": "ipython3",
   "version": "3.9.12"
  }
 },
 "nbformat": 4,
 "nbformat_minor": 4
}

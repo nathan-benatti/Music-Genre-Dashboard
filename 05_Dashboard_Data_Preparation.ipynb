{
 "cells": [
  {
   "cell_type": "code",
   "execution_count": 78,
   "metadata": {},
   "outputs": [],
   "source": [
    "import pandas as pd\n",
    "import numpy as np\n",
    "#allgenres = pd.read_excel(r'C:\\Users\\Nathan\\Documents\\music recommendation system\\allgenres.xlsx',header=None)\n",
    "song_df = pd.read_csv(r'C:\\Users\\Nathan\\Documents\\music recommendation system\\songs_subset.csv',header=None)\n",
    "#genres1 = pd.read_excel(r'C:\\Users\\Nathan\\Documents\\music recommendation system\\clean_genres.xlsx',header=None)\n",
    "#genres2 = pd.read_excel(r'C:\\Users\\Nathan\\Documents\\music recommendation system\\clean_genres2.xlsx',header=None)"
   ]
  },
  {
   "cell_type": "markdown",
   "metadata": {},
   "source": [
    "### Grouping the genres obtained by the artists on the original dataset"
   ]
  },
  {
   "cell_type": "code",
   "execution_count": 79,
   "metadata": {},
   "outputs": [],
   "source": [
    "df_genres = [] \n",
    "df_genres = [genres[j] for i in range(0,len(song_df)) for j in range(0,len(artists)) if song_df['artist_name'][i] == artists[j]]  "
   ]
  },
  {
   "cell_type": "code",
   "execution_count": 79,
   "metadata": {},
   "outputs": [],
   "source": [
    "song_df.rename(columns={1: \"user_id\",2:\"song_id\",3:\"listen_count\",4:\"title\",5:\"release\",6:\"artist_name\",7:\"year\",8:\"genre\"},inplace=True)\n",
    "song_df[\"song\"] = song_df[\"title\"] + \" - \" + song_df[\"artist_name\"]"
   ]
  },
  {
   "cell_type": "markdown",
   "metadata": {},
   "source": [
    "### Cleaning the songs without year or genre"
   ]
  },
  {
   "cell_type": "code",
   "execution_count": 80,
   "metadata": {},
   "outputs": [],
   "source": [
    "song_df = song_df[song_df['year']!=0]"
   ]
  },
  {
   "cell_type": "code",
   "execution_count": 81,
   "metadata": {},
   "outputs": [],
   "source": [
    "song_df = song_df.dropna()"
   ]
  },
  {
   "cell_type": "code",
   "execution_count": 82,
   "metadata": {
    "tags": []
   },
   "outputs": [
    {
     "data": {
      "text/plain": [
       "0                                ['rumba', 'flamenco']\n",
       "1                                              ['rap']\n",
       "2                                       ['neo mellow']\n",
       "3        ['permanent wave', 'rock', 'grunge', 'metal']\n",
       "4                ['rock', 'musica aragonesa', 'latin']\n",
       "                             ...                      \n",
       "99994                       ['permanent wave', 'rock']\n",
       "99995              ['indie', 'rock', 'permanent wave']\n",
       "99997                                ['rock', 'blues']\n",
       "99998                 ['rock', 'pop', 'punk', 'comic']\n",
       "99999      ['rock', 'british invasion', 'mellow gold']\n",
       "Name: genre, Length: 75051, dtype: object"
      ]
     },
     "execution_count": 82,
     "metadata": {},
     "output_type": "execute_result"
    }
   ],
   "source": [
    "song_df['genre']"
   ]
  },
  {
   "cell_type": "code",
   "execution_count": 83,
   "metadata": {},
   "outputs": [],
   "source": [
    "genres = [None]*len(song_df)"
   ]
  },
  {
   "cell_type": "code",
   "execution_count": 84,
   "metadata": {
    "tags": []
   },
   "outputs": [],
   "source": [
    "song_df.reset_index(drop=True,inplace=True)"
   ]
  },
  {
   "cell_type": "markdown",
   "metadata": {},
   "source": [
    "### Making List to String"
   ]
  },
  {
   "cell_type": "code",
   "execution_count": 85,
   "metadata": {},
   "outputs": [],
   "source": [
    "import re\n",
    "for i in range(0,len(song_df['genre'])):\n",
    "        genre = ''\n",
    "        str1 = re.findall(\"'(.*?)'\",song_df['genre'][i])\n",
    "        for j in range(0,len(str1)):\n",
    "            genre = genre + '|' + str1[j]\n",
    "        genre = genre[1:]\n",
    "        genres[i] = genre"
   ]
  },
  {
   "cell_type": "code",
   "execution_count": 86,
   "metadata": {},
   "outputs": [],
   "source": [
    "song_df['genre'] = genres"
   ]
  },
  {
   "cell_type": "markdown",
   "metadata": {},
   "source": [
    "### grouping most popular songs"
   ]
  },
  {
   "cell_type": "code",
   "execution_count": 87,
   "metadata": {},
   "outputs": [],
   "source": [
    "song_grouped = song_df.groupby(['song']).agg({'listen_count': 'count'}).reset_index()\n",
    "top_songs = song_grouped.sort_values(by=[\"listen_count\"],ascending=False)\n",
    "top_songs.reset_index(drop=True,inplace=True)"
   ]
  },
  {
   "cell_type": "code",
   "execution_count": 88,
   "metadata": {},
   "outputs": [
    {
     "data": {
      "text/html": [
       "<div>\n",
       "<style scoped>\n",
       "    .dataframe tbody tr th:only-of-type {\n",
       "        vertical-align: middle;\n",
       "    }\n",
       "\n",
       "    .dataframe tbody tr th {\n",
       "        vertical-align: top;\n",
       "    }\n",
       "\n",
       "    .dataframe thead th {\n",
       "        text-align: right;\n",
       "    }\n",
       "</style>\n",
       "<table border=\"1\" class=\"dataframe\">\n",
       "  <thead>\n",
       "    <tr style=\"text-align: right;\">\n",
       "      <th></th>\n",
       "      <th>song</th>\n",
       "      <th>listen_count</th>\n",
       "    </tr>\n",
       "  </thead>\n",
       "  <tbody>\n",
       "    <tr>\n",
       "      <th>0</th>\n",
       "      <td>Undo - Björk</td>\n",
       "      <td>367</td>\n",
       "    </tr>\n",
       "    <tr>\n",
       "      <th>1</th>\n",
       "      <td>You're The One - Dwight Yoakam</td>\n",
       "      <td>317</td>\n",
       "    </tr>\n",
       "    <tr>\n",
       "      <th>2</th>\n",
       "      <td>Secrets - OneRepublic</td>\n",
       "      <td>308</td>\n",
       "    </tr>\n",
       "    <tr>\n",
       "      <th>3</th>\n",
       "      <td>Revelry - Kings Of Leon</td>\n",
       "      <td>306</td>\n",
       "    </tr>\n",
       "    <tr>\n",
       "      <th>4</th>\n",
       "      <td>Fireflies - Charttraxx Karaoke</td>\n",
       "      <td>258</td>\n",
       "    </tr>\n",
       "    <tr>\n",
       "      <th>...</th>\n",
       "      <td>...</td>\n",
       "      <td>...</td>\n",
       "    </tr>\n",
       "    <tr>\n",
       "      <th>7525</th>\n",
       "      <td>Come Clarity - In Flames</td>\n",
       "      <td>1</td>\n",
       "    </tr>\n",
       "    <tr>\n",
       "      <th>7526</th>\n",
       "      <td>If This Isn't Love - Jennifer Hudson</td>\n",
       "      <td>1</td>\n",
       "    </tr>\n",
       "    <tr>\n",
       "      <th>7527</th>\n",
       "      <td>Punk (Radio Edit) - Ferry Corsten</td>\n",
       "      <td>1</td>\n",
       "    </tr>\n",
       "    <tr>\n",
       "      <th>7528</th>\n",
       "      <td>Coming Home - Fleetwood Mac</td>\n",
       "      <td>1</td>\n",
       "    </tr>\n",
       "    <tr>\n",
       "      <th>7529</th>\n",
       "      <td>See The Sun - Dido</td>\n",
       "      <td>1</td>\n",
       "    </tr>\n",
       "  </tbody>\n",
       "</table>\n",
       "<p>7530 rows × 2 columns</p>\n",
       "</div>"
      ],
      "text/plain": [
       "                                      song  listen_count\n",
       "0                             Undo - Björk           367\n",
       "1           You're The One - Dwight Yoakam           317\n",
       "2                    Secrets - OneRepublic           308\n",
       "3                  Revelry - Kings Of Leon           306\n",
       "4           Fireflies - Charttraxx Karaoke           258\n",
       "...                                    ...           ...\n",
       "7525              Come Clarity - In Flames             1\n",
       "7526  If This Isn't Love - Jennifer Hudson             1\n",
       "7527     Punk (Radio Edit) - Ferry Corsten             1\n",
       "7528           Coming Home - Fleetwood Mac             1\n",
       "7529                    See The Sun - Dido             1\n",
       "\n",
       "[7530 rows x 2 columns]"
      ]
     },
     "execution_count": 88,
     "metadata": {},
     "output_type": "execute_result"
    }
   ],
   "source": [
    "top_songs"
   ]
  },
  {
   "cell_type": "code",
   "execution_count": 89,
   "metadata": {},
   "outputs": [],
   "source": [
    "### df de song_df sem musicas repetidas\n",
    "reduced_df = song_df.drop_duplicates(subset='song')\n",
    "reduced_df.reset_index(drop=True,inplace=True)"
   ]
  },
  {
   "cell_type": "code",
   "execution_count": 93,
   "metadata": {},
   "outputs": [],
   "source": [
    "###incluindo genero e ano em topsongs\n",
    "topsongs_genres = []\n",
    "topsongs_year = []\n",
    "for i in range(0,len(top_songs)):\n",
    "    for j in range(0,len(reduced_df)):\n",
    "        if top_songs['song'][i] == reduced_df['song'][j]:\n",
    "            topsongs_genres.append(reduced_df['genre'][j])\n",
    "            topsongs_year.append(reduced_df['year'][j])"
   ]
  },
  {
   "cell_type": "code",
   "execution_count": 95,
   "metadata": {},
   "outputs": [],
   "source": [
    "top_songs['genre'] = topsongs_genres\n",
    "top_songs['year'] = topsongs_year"
   ]
  },
  {
   "cell_type": "code",
   "execution_count": 98,
   "metadata": {},
   "outputs": [],
   "source": [
    "top_songs.to_excel(r'C:\\Users\\Nathan\\Documents\\music recommendation system\\top_songs_complete.xlsx')"
   ]
  },
  {
   "cell_type": "code",
   "execution_count": 99,
   "metadata": {},
   "outputs": [],
   "source": [
    "teste = pd.read_excel(r'C:\\Users\\Nathan\\Documents\\music recommendation system\\top_songs_complete.xlsx')"
   ]
  },
  {
   "cell_type": "code",
   "execution_count": 102,
   "metadata": {},
   "outputs": [
    {
     "data": {
      "text/plain": [
       "'icelandic experimental|experimental vocal|permanent wave|pop|trip hop|electronica'"
      ]
     },
     "execution_count": 102,
     "metadata": {},
     "output_type": "execute_result"
    }
   ],
   "source": [
    "top_songs['genre'][0]"
   ]
  },
  {
   "cell_type": "markdown",
   "metadata": {},
   "source": [
    "### Checking which is the most popular genres"
   ]
  },
  {
   "cell_type": "code",
   "execution_count": 118,
   "metadata": {},
   "outputs": [],
   "source": [
    "all_genres = []\n",
    "\n",
    "for i in range(0,len(top_songs)):\n",
    "    if type(re.search('|',genres[i])) == re.Match:\n",
    "        str1 = re.findall('(.*?)\\|',top_songs['genre'][i])\n",
    "        str2 = re.findall('\\|([^|]*)$',top_songs['genre'][i])\n",
    "\n",
    "        for j in range(0,len(str1)):\n",
    "            all_genres.append(str1[j])\n",
    "        if len(str2) == 1:\n",
    "            all_genres.append(str2[0])\n",
    "\n",
    "    else:\n",
    "        all_genres.append(genres[i])"
   ]
  },
  {
   "cell_type": "code",
   "execution_count": 122,
   "metadata": {},
   "outputs": [],
   "source": [
    "all_genres = pd.Series(all_genres)"
   ]
  },
  {
   "cell_type": "code",
   "execution_count": 124,
   "metadata": {},
   "outputs": [],
   "source": [
    "top_genres = all_genres.value_counts()"
   ]
  },
  {
   "cell_type": "code",
   "execution_count": 131,
   "metadata": {},
   "outputs": [],
   "source": [
    "top_25_genres = top_genres[0:25]"
   ]
  },
  {
   "cell_type": "code",
   "execution_count": 132,
   "metadata": {},
   "outputs": [
    {
     "data": {
      "text/plain": [
       "rock                  3876\n",
       "pop                   3158\n",
       "indie                 1493\n",
       "metal                  959\n",
       "permanent wave         664\n",
       "rap                    615\n",
       "new rave               508\n",
       "stomp and holler       478\n",
       "folk                   473\n",
       "electronica            462\n",
       "neo mellow             428\n",
       "grunge                 387\n",
       "punk                   378\n",
       "electronic             297\n",
       "latin                  295\n",
       "mellow gold            290\n",
       "hardcore               288\n",
       "urban contemporary     269\n",
       "r&b                    254\n",
       "jazz                   252\n",
       "soul                   248\n",
       "reggae                 216\n",
       "melancholia            216\n",
       "new wave               189\n",
       "blues                  179\n",
       "dtype: int64"
      ]
     },
     "execution_count": 132,
     "metadata": {},
     "output_type": "execute_result"
    }
   ],
   "source": [
    "top_25_genres"
   ]
  },
  {
   "cell_type": "code",
   "execution_count": 149,
   "metadata": {},
   "outputs": [
    {
     "data": {
      "text/plain": [
       "pandas.core.indexes.base.Index"
      ]
     },
     "execution_count": 149,
     "metadata": {},
     "output_type": "execute_result"
    }
   ],
   "source": [
    "type(top_25_genres.index)"
   ]
  },
  {
   "cell_type": "code",
   "execution_count": 150,
   "metadata": {},
   "outputs": [],
   "source": [
    "top25list = top_25_genres.index.tolist()"
   ]
  },
  {
   "cell_type": "markdown",
   "metadata": {},
   "source": [
    "### Use only the 25 most popular genre, otherwise it will be categorized as 'other'"
   ]
  },
  {
   "cell_type": "code",
   "execution_count": 153,
   "metadata": {},
   "outputs": [],
   "source": [
    "\n",
    "def check_top_25(string,top_25):\n",
    "    check = 0\n",
    "    for i in range(0,25):        \n",
    "        if string == top_25[i]:\n",
    "            check = 1\n",
    "        \n",
    "    if check == 0:\n",
    "        string = 'other'\n",
    "    \n",
    "    return string\n",
    "    \n",
    "        "
   ]
  },
  {
   "cell_type": "markdown",
   "metadata": {},
   "source": []
  },
  {
   "cell_type": "code",
   "execution_count": 247,
   "metadata": {},
   "outputs": [],
   "source": [
    "genres = [None]*len(top_songs)\n",
    "for i in range(0,len(top_songs)):\n",
    "    if type(re.search('|',top_songs['genre'][i])) == re.Match:\n",
    "        str1 = re.findall('(.*?)\\|',top_songs['genre'][i])\n",
    "        for j in range(0,len(str1)):\n",
    "            str1[j] = check_top_25(str1[j],top25list)  \n",
    "\n",
    "        str2 = re.findall('\\|([^|]*)$',top_songs['genre'][i])\n",
    "        str2 = check_top_25(str2,top25list)\n",
    "        str2 = [str2]\n",
    "\n",
    "        \n",
    "        genres[i] = str1 + str2\n",
    "        genres[i] = list(dict.fromkeys(genres[i]))\n",
    "    else:\n",
    "        genres[i] = check_top_25(top_songs['genre'][i],top25list)"
   ]
  },
  {
   "cell_type": "code",
   "execution_count": 255,
   "metadata": {},
   "outputs": [],
   "source": [
    "top_songs['genre'] = genres"
   ]
  },
  {
   "cell_type": "code",
   "execution_count": 255,
   "metadata": {},
   "outputs": [],
   "source": [
    "top_songs = top_songs.explode('genre')"
   ]
  },
  {
   "cell_type": "code",
   "execution_count": 258,
   "metadata": {},
   "outputs": [],
   "source": [
    "top_songs.to_excel(r'C:\\Users\\Nathan\\Documents\\music recommendation system\\dashboard_topsongs.xlsx')"
   ]
  },
  {
   "cell_type": "code",
   "execution_count": null,
   "metadata": {},
   "outputs": [],
   "source": []
  }
 ],
 "metadata": {
  "kernelspec": {
   "display_name": "Python 3 (ipykernel)",
   "language": "python",
   "name": "python3"
  },
  "language_info": {
   "codemirror_mode": {
    "name": "ipython",
    "version": 3
   },
   "file_extension": ".py",
   "mimetype": "text/x-python",
   "name": "python",
   "nbconvert_exporter": "python",
   "pygments_lexer": "ipython3",
   "version": "3.9.12"
  }
 },
 "nbformat": 4,
 "nbformat_minor": 4
}

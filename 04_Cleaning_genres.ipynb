{
 "cells": [
  {
   "cell_type": "markdown",
   "metadata": {},
   "source": [
    "### Cleaning the Music Genre Dataset"
   ]
  },
  {
   "cell_type": "code",
   "execution_count": 11,
   "metadata": {},
   "outputs": [],
   "source": [
    "import pandas as pd\n",
    "import numpy as np\n",
    "import re\n",
    "\n",
    "#lendo o arquivo allgenres\n",
    "genres = pd.read_excel(r'C:\\Users\\Nathan\\Documents\\music recommendation system\\allgenres.xlsx',header=None)\n",
    "genres = genres[1]"
   ]
  },
  {
   "cell_type": "code",
   "execution_count": 12,
   "metadata": {},
   "outputs": [
    {
     "data": {
      "text/plain": [
       "0                          rumba,flamenco guitar,flamenco\n",
       "1                                         rap,chicago rap\n",
       "2                                              neo mellow\n",
       "3       permanent wave,rock,post-grunge,alternative ro...\n",
       "4       rock en espanol,musica aragonesa,latin rock,la...\n",
       "                              ...                        \n",
       "3370    chicago rap,alternative hip hop,escape room,so...\n",
       "3371                                                  NaN\n",
       "3372    christian music,worship,deep christian rock,ro...\n",
       "3373      harlem hip hop,hardcore hip hop,hip pop,hip hop\n",
       "3374    glam rock,pub rock,art rock,classic uk pop,sym...\n",
       "Name: 1, Length: 3375, dtype: object"
      ]
     },
     "execution_count": 12,
     "metadata": {},
     "output_type": "execute_result"
    }
   ],
   "source": [
    "genres"
   ]
  },
  {
   "cell_type": "code",
   "execution_count": 13,
   "metadata": {},
   "outputs": [],
   "source": [
    "all_genres = []\n",
    "\n",
    "for i in range(0,len(genres)):\n",
    "    if type(genres[i]) != float:\n",
    "        if type(re.search(',',genres[i])) == re.Match:\n",
    "            str1 = re.findall('(.*?),',genres[i])\n",
    "            str2 = re.findall(',([^,]*)$',genres[i])\n",
    "\n",
    "            for j in range(0,len(str1)):\n",
    "                all_genres.append(str1[j])\n",
    "\n",
    "            all_genres.append(str2[0])\n",
    "\n",
    "        else:\n",
    "            all_genres.append(genres[i])\n",
    "            "
   ]
  },
  {
   "cell_type": "code",
   "execution_count": 14,
   "metadata": {},
   "outputs": [],
   "source": [
    "unique_genres = pd.Series(all_genres)\n",
    "unique_genres = unique_genres.unique()\n",
    "unique_genres = pd.Series(unique_genres)"
   ]
  },
  {
   "cell_type": "code",
   "execution_count": 15,
   "metadata": {},
   "outputs": [
    {
     "name": "stdout",
     "output_type": "stream",
     "text": [
      "1541 12997\n"
     ]
    }
   ],
   "source": [
    "print(len(unique_genres),len(all_genres))"
   ]
  },
  {
   "cell_type": "code",
   "execution_count": 16,
   "metadata": {},
   "outputs": [],
   "source": [
    "all_genres = pd.Series(all_genres)"
   ]
  },
  {
   "cell_type": "code",
   "execution_count": 17,
   "metadata": {},
   "outputs": [],
   "source": [
    "top_genres = all_genres.value_counts()"
   ]
  },
  {
   "cell_type": "code",
   "execution_count": 18,
   "metadata": {},
   "outputs": [
    {
     "data": {
      "text/plain": [
       "rock                 291\n",
       "pop rock             191\n",
       "dance pop            191\n",
       "classic rock         143\n",
       "alternative metal    142\n",
       "dtype: int64"
      ]
     },
     "execution_count": 18,
     "metadata": {},
     "output_type": "execute_result"
    }
   ],
   "source": [
    "top_genres.head()"
   ]
  },
  {
   "cell_type": "markdown",
   "metadata": {},
   "source": [
    "For there is too many genres in this dataset (1541 to be exact), it might be good to reduce some of this genres for another that is more generic. For example, reducing \"Classic Rock\" to \"Rock\" or \"Indie Pop\" to \"Indie\" \n",
    "\n",
    "   \n",
    "For that we will be doing substitue_genres function\n"
   ]
  },
  {
   "cell_type": "code",
   "execution_count": 9,
   "metadata": {},
   "outputs": [],
   "source": [
    "def substitute_genres(string_list):\n",
    "    for j in range(0,len(string_list)):\n",
    "                if type(re.search('rap',string_list[j])) == re.Match:\n",
    "                    string_list[j] = 'rap'\n",
    "                if type(re.search('hip-hop',string_list[j])) == re.Match:\n",
    "                    string_list[j] = 'rap'\n",
    "                if type(re.search('rock',string_list[j])) == re.Match:\n",
    "                    string_list[j] = 'rock'\n",
    "                if type(re.search('indie',string_list[j])) == re.Match:\n",
    "                    string_list[j] = 'indie'\n",
    "                if type(re.search('hip hop',string_list[j])) == re.Match:\n",
    "                    string_list[j] = 'rap'\n",
    "                if type(re.search('pop',string_list[j])) == re.Match:\n",
    "                    string_list[j] = 'pop'\n",
    "                if type(re.search('metal',string_list[j])) == re.Match:\n",
    "                    string_list[j] = 'metal'\n",
    "                if type(re.search('dance',string_list[j])) == re.Match:\n",
    "                    string_list[j] = 'pop'\n",
    "                if type(re.search('country',string_list[j])) == re.Match:\n",
    "                    string_list[j] = 'country'\n",
    "                if type(re.search('blues',string_list[j])) == re.Match:\n",
    "                    string_list[j] = 'blues'\n",
    "                if type(re.search('folk',string_list[j])) == re.Match:\n",
    "                    string_list[j] = 'folk'\n",
    "                if type(re.search('metal',string_list[j])) == re.Match:\n",
    "                    string_list[j] = 'metal'\n",
    "                if type(re.search('punk',string_list[j])) == re.Match:\n",
    "                    string_list[j] = 'punk'\n",
    "                if type(re.search('eletronica',string_list[j])) == re.Match:\n",
    "                    string_list[j] = 'eletronic'\n",
    "                if type(re.search('eletronic',string_list[j])) == re.Match:\n",
    "                    string_list[j] = 'eletronic'\n",
    "                if type(re.search('jazz',string_list[j])) == re.Match:\n",
    "                    string_list[j] = 'jazz'\n",
    "                if type(re.search('soul',string_list[j])) == re.Match:\n",
    "                    string_list[j] = 'soul'\n",
    "                if type(re.search('funk',string_list[j])) == re.Match:\n",
    "                    string_list[j] = 'reggae'\n",
    "                if type(re.search('screamo',string_list[j])) == re.Match:\n",
    "                    string_list[j] = 'hardcore'\n",
    "                if type(re.search('hardcore',string_list[j])) == re.Match:\n",
    "                    string_list[j] = 'hardcore'\n",
    "                if type(re.search('trap',string_list[j])) == re.Match:\n",
    "                    string_list[j] = 'trap'\n",
    "                if type(re.search('disco',string_list[j])) == re.Match:\n",
    "                    string_list[j] = 'disco'\n",
    "                if type(re.search('edm',string_list[j])) == re.Match:\n",
    "                    string_list[j] = 'eletronic'\n",
    "                if type(re.search('classical',string_list[j])) == re.Match:\n",
    "                    string_list[j] = 'classical'\n",
    "                if type(re.search('r&b',string_list[j])) == re.Match:\n",
    "                    string_list[j] = 'r&b'\n",
    "                if type(re.search('rhythm and blues',string_list[j])) == re.Match:\n",
    "                    string_list[j] = 'r&b'\n",
    "                if type(re.search('grunge',string_list[j])) == re.Match:\n",
    "                    string_list[j] = 'grunge'\n",
    "                if type(re.search('swing',string_list[j])) == re.Match:\n",
    "                    string_list[j] = 'jazz'\n",
    "                if type(re.search('emo',string_list[j])) == re.Match:\n",
    "                    string_list[j] = 'hardcore'\n",
    "                if type(re.search('gospel',string_list[j])) == re.Match:\n",
    "                    string_list[j] = 'gospel'\n",
    "                if type(re.search('christian',string_list[j])) == re.Match:\n",
    "                    string_list[j] = 'gospel'\n",
    "                if type(re.search('samba',string_list[j])) == re.Match:\n",
    "                    string_list[j] = 'samba'\n",
    "                if type(re.search('bossa nova',string_list[j])) == re.Match:\n",
    "                    string_list[j] = 'bossa nova'\n",
    "                if type(re.search('worship',string_list[j])) == re.Match:\n",
    "                    string_list[j] = 'gospel'\n",
    "                if type(re.search('baroque',string_list[j])) == re.Match:\n",
    "                    string_list[j] = 'classical'\n",
    "                if type(re.search('trance',string_list[j])) == re.Match:\n",
    "                    string_list[j] = 'electronic'\n",
    "                if type(re.search('deathrash',string_list[j])) == re.Match:\n",
    "                    string_list[j] = 'metal'\n",
    "                if type(re.search('ebm',string_list[j])) == re.Match:\n",
    "                    string_list[j] = 'electronic'\n",
    "                if type(re.search('doom',string_list[j])) == re.Match:\n",
    "                    string_list[j] = 'metal'\n",
    "                if type(re.search('techno',string_list[j])) == re.Match:\n",
    "                    string_list[j] = 'electronic'\n",
    "                if type(re.search('flamenco',string_list[j])) == re.Match:\n",
    "                    string_list[j] = 'flamenco' \n",
    "                if type(re.search('latin',string_list[j])) == re.Match:\n",
    "                    string_list[j] = 'latin'\n",
    "                if type(re.search('house',string_list[j])) == re.Match:\n",
    "                    string_list[j] = 'electronic'\n",
    "                if type(re.search('eletronic',string_list[j])) == re.Match:\n",
    "                    string_list[j] = 'electronic'    \n",
    "                if type(re.search('reggae',string_list[j])) == re.Match:\n",
    "                    string_list[j] = 'reggae'\n",
    "\n",
    "    return string_list"
   ]
  },
  {
   "cell_type": "code",
   "execution_count": 10,
   "metadata": {},
   "outputs": [],
   "source": [
    "all_genres = substitute_genres(all_genres)"
   ]
  },
  {
   "cell_type": "markdown",
   "metadata": {},
   "source": [
    "### Creating a list of lists to group the genres and take off the repeated ones "
   ]
  },
  {
   "cell_type": "code",
   "execution_count": 13,
   "metadata": {},
   "outputs": [],
   "source": [
    "for i in range(0,len(genres)):\n",
    "    if type(genres[i]) != float:\n",
    "        if type(re.search(',',genres[i])) == re.Match:\n",
    "            str1 = re.findall('(.*?),',genres[i])\n",
    "            str1 = substitute_genres(str1)  \n",
    "                \n",
    "            str2 = re.findall(',([^,]*)$',genres[i])\n",
    "            str2 = substitute_genres(str2)\n",
    "            \n",
    "            \n",
    "            genres[i] = str1 + str2\n",
    "            genres[i] = list(dict.fromkeys(genres[i]))\n",
    "        else:\n",
    "            genres_aux = []\n",
    "            genres_aux.append(genres[i])\n",
    "            genres[i] = genres_aux\n",
    "            genres[i] = substitute_genres(genres[i])\n",
    "            genres[i] = list(dict.fromkeys(genres[i]))\n",
    "            "
   ]
  },
  {
   "cell_type": "code",
   "execution_count": 15,
   "metadata": {},
   "outputs": [],
   "source": [
    "# clean genres excel\n",
    "genres.to_excel(r'C:\\Users\\Nathan\\Documents\\music recommendation system\\clean_genres.xlsx',header=None)"
   ]
  },
  {
   "cell_type": "markdown",
   "metadata": {},
   "source": [
    "### Cleaning the genres from list to string"
   ]
  },
  {
   "cell_type": "code",
   "execution_count": 9,
   "metadata": {},
   "outputs": [],
   "source": [
    "import pandas as pd\n",
    "import numpy as np\n",
    "\n",
    "genres = pd.read_excel(r'C:\\Users\\Nathan\\Documents\\music recommendation system\\clean_genres.xlsx',header=None)\n",
    "genres = genres[1]"
   ]
  },
  {
   "cell_type": "code",
   "execution_count": 10,
   "metadata": {},
   "outputs": [
    {
     "data": {
      "text/plain": [
       "3375"
      ]
     },
     "execution_count": 10,
     "metadata": {},
     "output_type": "execute_result"
    }
   ],
   "source": [
    "len(genres)"
   ]
  },
  {
   "cell_type": "code",
   "execution_count": 6,
   "metadata": {},
   "outputs": [],
   "source": [
    "import re\n",
    "str1 = re.findall(\"'(.*?)'\",genres[0])"
   ]
  },
  {
   "cell_type": "code",
   "execution_count": 7,
   "metadata": {},
   "outputs": [],
   "source": [
    "for i in range(0,len(genres)):\n",
    "    if type(genres[i]) != float:\n",
    "        genre = ''\n",
    "        str1 = re.findall(\"'(.*?)'\",genres[i])\n",
    "        for j in range(0,len(str1)):\n",
    "            genre = genre + '|' + str1[j]\n",
    "        genre = genre[1:]\n",
    "        genres[i] = genre"
   ]
  },
  {
   "cell_type": "code",
   "execution_count": 8,
   "metadata": {},
   "outputs": [
    {
     "data": {
      "text/plain": [
       "0                         rumba|flamenco\n",
       "1                                    rap\n",
       "2                             neo mellow\n",
       "3       permanent wave|rock|grunge|metal\n",
       "4            rock|musica aragonesa|latin\n",
       "                      ...               \n",
       "3370                     rap|escape room\n",
       "3371                                 NaN\n",
       "3372      gospel|rock|ccm|classic praise\n",
       "3373                             rap|pop\n",
       "3374                            rock|pop\n",
       "Name: 1, Length: 3375, dtype: object"
      ]
     },
     "execution_count": 8,
     "metadata": {},
     "output_type": "execute_result"
    }
   ],
   "source": [
    "genres"
   ]
  },
  {
   "cell_type": "code",
   "execution_count": 69,
   "metadata": {},
   "outputs": [],
   "source": [
    "genres.to_excel(r'C:\\Users\\Nathan\\Documents\\music recommendation system\\clean_genres2.xlsx',header=None)"
   ]
  },
  {
   "cell_type": "code",
   "execution_count": 2,
   "metadata": {},
   "outputs": [],
   "source": [
    "import pandas as pd\n",
    "import numpy as np\n",
    "\n",
    "allgenres = pd.read_excel(r'C:\\Users\\Nathan\\Documents\\music recommendation system\\clean_genres2.xlsx',header=None)"
   ]
  },
  {
   "cell_type": "code",
   "execution_count": 4,
   "metadata": {},
   "outputs": [
    {
     "data": {
      "text/html": [
       "<div>\n",
       "<style scoped>\n",
       "    .dataframe tbody tr th:only-of-type {\n",
       "        vertical-align: middle;\n",
       "    }\n",
       "\n",
       "    .dataframe tbody tr th {\n",
       "        vertical-align: top;\n",
       "    }\n",
       "\n",
       "    .dataframe thead th {\n",
       "        text-align: right;\n",
       "    }\n",
       "</style>\n",
       "<table border=\"1\" class=\"dataframe\">\n",
       "  <thead>\n",
       "    <tr style=\"text-align: right;\">\n",
       "      <th></th>\n",
       "      <th>0</th>\n",
       "      <th>1</th>\n",
       "    </tr>\n",
       "  </thead>\n",
       "  <tbody>\n",
       "    <tr>\n",
       "      <th>3355</th>\n",
       "      <td>3355</td>\n",
       "      <td>rock|pop|mellow gold|disco|adult standards|folk</td>\n",
       "    </tr>\n",
       "    <tr>\n",
       "      <th>3356</th>\n",
       "      <td>3356</td>\n",
       "      <td>folk</td>\n",
       "    </tr>\n",
       "    <tr>\n",
       "      <th>3357</th>\n",
       "      <td>3357</td>\n",
       "      <td>NaN</td>\n",
       "    </tr>\n",
       "    <tr>\n",
       "      <th>3358</th>\n",
       "      <td>3358</td>\n",
       "      <td>jam band</td>\n",
       "    </tr>\n",
       "    <tr>\n",
       "      <th>3359</th>\n",
       "      <td>3359</td>\n",
       "      <td>rock|indie|blues</td>\n",
       "    </tr>\n",
       "    <tr>\n",
       "      <th>3360</th>\n",
       "      <td>3360</td>\n",
       "      <td>pop|latin|tropical</td>\n",
       "    </tr>\n",
       "    <tr>\n",
       "      <th>3361</th>\n",
       "      <td>3361</td>\n",
       "      <td>pop|latin|rock|tropical</td>\n",
       "    </tr>\n",
       "    <tr>\n",
       "      <th>3362</th>\n",
       "      <td>3362</td>\n",
       "      <td>swedish electronic|electronic</td>\n",
       "    </tr>\n",
       "    <tr>\n",
       "      <th>3363</th>\n",
       "      <td>3363</td>\n",
       "      <td>rock</td>\n",
       "    </tr>\n",
       "    <tr>\n",
       "      <th>3364</th>\n",
       "      <td>3364</td>\n",
       "      <td>NaN</td>\n",
       "    </tr>\n",
       "    <tr>\n",
       "      <th>3365</th>\n",
       "      <td>3365</td>\n",
       "      <td>soul|motown</td>\n",
       "    </tr>\n",
       "    <tr>\n",
       "      <th>3366</th>\n",
       "      <td>3366</td>\n",
       "      <td>new rave|pop</td>\n",
       "    </tr>\n",
       "    <tr>\n",
       "      <th>3367</th>\n",
       "      <td>3367</td>\n",
       "      <td>hands up</td>\n",
       "    </tr>\n",
       "    <tr>\n",
       "      <th>3368</th>\n",
       "      <td>3368</td>\n",
       "      <td>rock|pop|indie</td>\n",
       "    </tr>\n",
       "    <tr>\n",
       "      <th>3369</th>\n",
       "      <td>3369</td>\n",
       "      <td>rap</td>\n",
       "    </tr>\n",
       "    <tr>\n",
       "      <th>3370</th>\n",
       "      <td>3370</td>\n",
       "      <td>rap|escape room</td>\n",
       "    </tr>\n",
       "    <tr>\n",
       "      <th>3371</th>\n",
       "      <td>3371</td>\n",
       "      <td>NaN</td>\n",
       "    </tr>\n",
       "    <tr>\n",
       "      <th>3372</th>\n",
       "      <td>3372</td>\n",
       "      <td>gospel|rock|ccm|classic praise</td>\n",
       "    </tr>\n",
       "    <tr>\n",
       "      <th>3373</th>\n",
       "      <td>3373</td>\n",
       "      <td>rap|pop</td>\n",
       "    </tr>\n",
       "    <tr>\n",
       "      <th>3374</th>\n",
       "      <td>3374</td>\n",
       "      <td>rock|pop</td>\n",
       "    </tr>\n",
       "  </tbody>\n",
       "</table>\n",
       "</div>"
      ],
      "text/plain": [
       "         0                                                1\n",
       "3355  3355  rock|pop|mellow gold|disco|adult standards|folk\n",
       "3356  3356                                             folk\n",
       "3357  3357                                              NaN\n",
       "3358  3358                                         jam band\n",
       "3359  3359                                 rock|indie|blues\n",
       "3360  3360                               pop|latin|tropical\n",
       "3361  3361                          pop|latin|rock|tropical\n",
       "3362  3362                    swedish electronic|electronic\n",
       "3363  3363                                             rock\n",
       "3364  3364                                              NaN\n",
       "3365  3365                                      soul|motown\n",
       "3366  3366                                     new rave|pop\n",
       "3367  3367                                         hands up\n",
       "3368  3368                                   rock|pop|indie\n",
       "3369  3369                                              rap\n",
       "3370  3370                                  rap|escape room\n",
       "3371  3371                                              NaN\n",
       "3372  3372                   gospel|rock|ccm|classic praise\n",
       "3373  3373                                          rap|pop\n",
       "3374  3374                                         rock|pop"
      ]
     },
     "execution_count": 4,
     "metadata": {},
     "output_type": "execute_result"
    }
   ],
   "source": [
    "allgenres.tail(20)"
   ]
  },
  {
   "cell_type": "code",
   "execution_count": null,
   "metadata": {},
   "outputs": [],
   "source": []
  }
 ],
 "metadata": {
  "kernelspec": {
   "display_name": "Python 3 (ipykernel)",
   "language": "python",
   "name": "python3"
  },
  "language_info": {
   "codemirror_mode": {
    "name": "ipython",
    "version": 3
   },
   "file_extension": ".py",
   "mimetype": "text/x-python",
   "name": "python",
   "nbconvert_exporter": "python",
   "pygments_lexer": "ipython3",
   "version": "3.9.12"
  }
 },
 "nbformat": 4,
 "nbformat_minor": 4
}

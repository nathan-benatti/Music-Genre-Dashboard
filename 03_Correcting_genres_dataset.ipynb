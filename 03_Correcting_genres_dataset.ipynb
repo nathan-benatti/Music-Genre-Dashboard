{
 "cells": [
  {
   "cell_type": "markdown",
   "metadata": {},
   "source": [
    "## Correcting Music Genre Dataset\n",
    "Due to multiple connection errors during the webscrapping it was necessary to divided the webscrapping in parts in order to avoid the lost of time and computer processing.\n",
    "For now lets append those separated files.\n"
   ]
  },
  {
   "cell_type": "code",
   "execution_count": 1,
   "metadata": {},
   "outputs": [
    {
     "data": {
      "text/plain": [
       "0                          rumba,flamenco guitar,flamenco\n",
       "1                                         rap,chicago rap\n",
       "2                                              neo mellow\n",
       "3       permanent wave,rock,post-grunge,alternative ro...\n",
       "4       rock en espanol,musica aragonesa,latin rock,la...\n",
       "                              ...                        \n",
       "3370    chicago rap,alternative hip hop,escape room,so...\n",
       "3371                                                  NaN\n",
       "3372    christian music,worship,deep christian rock,ro...\n",
       "3373      harlem hip hop,hardcore hip hop,hip pop,hip hop\n",
       "3374    glam rock,pub rock,art rock,classic uk pop,sym...\n",
       "Name: 1, Length: 3375, dtype: object"
      ]
     },
     "execution_count": 1,
     "metadata": {},
     "output_type": "execute_result"
    }
   ],
   "source": [
    "import pandas as pd\n",
    "import numpy as np\n",
    "\n",
    "all_genres0 = pd.read_excel(r\"C:\\Users\\Nathan\\Documents\\music recommendation system\\allgenres1.xlsx\",header=None)\n",
    "all_genres0 = all_genres0[1]\n",
    "all_genres1 = pd.read_excel(r'C:\\Users\\Nathan\\Documents\\music recommendation system\\allgenres2.xlsx',header=None)\n",
    "all_genres1 = all_genres1[1]\n",
    "all_genres1 = all_genres1[1:]\n",
    "all_genres2 = pd.read_excel(r'C:\\Users\\Nathan\\Documents\\music recommendation system\\allgenres3.xlsx',header=None)\n",
    "all_genres2 = all_genres2[1]\n",
    "all_genres2 = all_genres2[1:]\n",
    "all_genres = all_genres0.append(all_genres1.append(all_genres2))\n",
    "all_genres.reset_index(drop=True)"
   ]
  },
  {
   "cell_type": "code",
   "execution_count": 5,
   "metadata": {},
   "outputs": [
    {
     "data": {
      "text/plain": [
       "0                       rumba,flamenco guitar,flamenco\n",
       "1                                      rap,chicago rap\n",
       "2                                           neo mellow\n",
       "3    permanent wave,rock,post-grunge,alternative ro...\n",
       "4    rock en espanol,musica aragonesa,latin rock,la...\n",
       "5                              pop,pop dance,dance pop\n",
       "6    berlin school,krautrock,experimental,fourth wo...\n",
       "7                                                  NaN\n",
       "8                                                  NaN\n",
       "9                                                  NaN\n",
       "Name: 1, dtype: object"
      ]
     },
     "execution_count": 5,
     "metadata": {},
     "output_type": "execute_result"
    }
   ],
   "source": [
    "all_genres0[0:10]"
   ]
  },
  {
   "cell_type": "code",
   "execution_count": 50,
   "metadata": {},
   "outputs": [],
   "source": [
    "all_genres.to_excel(r'C:\\Users\\Nathan\\Documents\\music recommendation system\\allgenres.xlsx',header=None)"
   ]
  },
  {
   "cell_type": "code",
   "execution_count": null,
   "metadata": {},
   "outputs": [],
   "source": []
  }
 ],
 "metadata": {
  "kernelspec": {
   "display_name": "Python 3 (ipykernel)",
   "language": "python",
   "name": "python3"
  },
  "language_info": {
   "codemirror_mode": {
    "name": "ipython",
    "version": 3
   },
   "file_extension": ".py",
   "mimetype": "text/x-python",
   "name": "python",
   "nbconvert_exporter": "python",
   "pygments_lexer": "ipython3",
   "version": "3.9.12"
  }
 },
 "nbformat": 4,
 "nbformat_minor": 4
}
